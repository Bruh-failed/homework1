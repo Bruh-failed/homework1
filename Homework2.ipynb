{
  "cells": [
    {
      "cell_type": "markdown",
      "metadata": {
        "id": "view-in-github",
        "colab_type": "text"
      },
      "source": [
        "<a href=\"https://colab.research.google.com/github/Bruh-failed/homework1/blob/main/Homework2.ipynb\" target=\"_parent\"><img src=\"https://colab.research.google.com/assets/colab-badge.svg\" alt=\"Open In Colab\"/></a>"
      ]
    },
    {
      "cell_type": "markdown",
      "id": "d86eca04",
      "metadata": {
        "id": "d86eca04"
      },
      "source": [
        "# Homework 2: Pandas\n",
        "\n",
        "Today we'll practice data exploration in pandas! Each of these cells should consist of a single line of pandas, answering the question.\n",
        "\n",
        "First, you'll need to download the dataset \"Top American Colleges 2022\" from Kaggle.com and get it into this directory. You'll need to make an account first.\n",
        "\n",
        "Below is a list of useful functions. Part of this homework is practicing reading the documentation, so you'll want to look them up as you go. I'd recommend starting with this: https://pandas.pydata.org/docs/user_guide/10min.html. Once you've read that, in general you can find the API for any of these functions by searching their name plus pandas.\n",
        "\n",
        "List of helpful functions:\n",
        "\n",
        "* read_csv\n",
        "* head\n",
        "* unique\n",
        "* groupby\n",
        "* apply (An important note about this one--pay careful attention to the weird axis argument. When you apply over a series, you often don't need it, but when you apply over a dataframe axis=1 and axis=0 will do very different things.)\n",
        "* value_counts\n",
        "* df.columns ('columns' is a dataframe variable that tracks the columns)\n",
        "* isin\n",
        "* fillna\n",
        "* astype\n",
        "* hist"
      ]
    },
    {
      "cell_type": "markdown",
      "id": "b5c99f57",
      "metadata": {
        "id": "b5c99f57"
      },
      "source": [
        "## The Basics\n",
        "\n",
        "First, read the dataframe in. Store it in a variable called \"df\"."
      ]
    },
    {
      "cell_type": "code",
      "execution_count": 3,
      "id": "1ae215ce",
      "metadata": {
        "id": "1ae215ce"
      },
      "outputs": [],
      "source": [
        "import pandas as pd\n",
        "df = pd.read_csv('top_colleges_2022.csv')"
      ]
    },
    {
      "cell_type": "markdown",
      "id": "42764159",
      "metadata": {
        "id": "42764159"
      },
      "source": [
        "Let's get a feel for our dataframe. Print out a list of columns"
      ]
    },
    {
      "cell_type": "code",
      "execution_count": 7,
      "id": "454d1bc7",
      "metadata": {
        "id": "454d1bc7",
        "colab": {
          "base_uri": "https://localhost:8080/"
        },
        "outputId": "96dc6580-0b62-43e7-e8c7-f2dc20ec458f"
      },
      "outputs": [
        {
          "output_type": "stream",
          "name": "stdout",
          "text": [
            "Index(['description', 'rank', 'organizationName', 'state', 'studentPopulation',\n",
            "       'campusSetting', 'medianBaseSalary', 'longitude', 'latitude', 'website',\n",
            "       'phoneNumber', 'city', 'country', 'state.1', 'region', 'yearFounded',\n",
            "       'stateCode', 'collegeType', 'carnegieClassification',\n",
            "       'studentFacultyRatio', 'totalStudentPop', 'undergradPop',\n",
            "       'totalGrantAid', 'percentOfStudentsFinAid', 'percentOfStudentsGrant'],\n",
            "      dtype='object')\n"
          ]
        }
      ],
      "source": [
        "print(df.columns)"
      ]
    },
    {
      "cell_type": "markdown",
      "id": "a41eb31f",
      "metadata": {
        "id": "a41eb31f"
      },
      "source": [
        "Now print out the first ten elements. There's a single function that does it by default."
      ]
    },
    {
      "cell_type": "code",
      "execution_count": 8,
      "id": "98b5cc9f",
      "metadata": {
        "id": "98b5cc9f",
        "colab": {
          "base_uri": "https://localhost:8080/"
        },
        "outputId": "d70f4d2e-3f05-46e6-cec2-5d2c609ec47e"
      },
      "outputs": [
        {
          "output_type": "stream",
          "name": "stdout",
          "text": [
            "                                         description  rank  \\\n",
            "0  A leading global research university, MIT attr...     1   \n",
            "1  Stanford University sits just outside of Palo ...     2   \n",
            "2  One of the top public universities in the coun...     2   \n",
            "3  Princeton is a leading private research univer...     4   \n",
            "4  Located in upper Manhattan, Columbia Universit...     5   \n",
            "5  The University of California, Los Angeles is t...     6   \n",
            "6  Located in rural Williamstown, MA, Williams Co...     7   \n",
            "7  Yale University is the second oldest Ivy Leagu...     8   \n",
            "8  Duke offers 53 undergraduate majors at its Dur...     9   \n",
            "9  Founded by Benjamin Franklin, The University o...    10   \n",
            "\n",
            "                        organizationName state  studentPopulation  \\\n",
            "0  Massachusetts Institute of Technology    MA              12195   \n",
            "1                    Stanford University    CA              20961   \n",
            "2     University of California, Berkeley    CA              45878   \n",
            "3                   Princeton University    NJ               8532   \n",
            "4                    Columbia University    NY              33882   \n",
            "5  University of California, Los Angeles    CA              46947   \n",
            "6                       Williams College    MA               2307   \n",
            "7                        Yale University    CT              14910   \n",
            "8                        Duke University    NC              17855   \n",
            "9             University of Pennsylvania    PA              30688   \n",
            "\n",
            "  campusSetting  medianBaseSalary   longitude   latitude  \\\n",
            "0         Urban          173700.0  -71.093539  42.359006   \n",
            "1      Suburban          173500.0 -122.168924  37.431370   \n",
            "2         Urban          154500.0 -122.258393  37.869236   \n",
            "3         Urban          167600.0  -74.659119  40.349855   \n",
            "4         Urban          148800.0  -73.961288  40.806515   \n",
            "5         Urban          137200.0 -118.437855  34.073903   \n",
            "6         Rural          152600.0  -73.208078  42.712389   \n",
            "7         Urban          163700.0  -72.923425  41.314042   \n",
            "8         Urban          155000.0  -78.940277  36.001389   \n",
            "9         Urban          164000.0  -75.162369  39.952270   \n",
            "\n",
            "                    website  ... yearFounded stateCode  \\\n",
            "0        http://web.mit.edu  ...      1861.0        MA   \n",
            "1   http://www.stanford.edu  ...      1891.0        CA   \n",
            "2   http://www.berkeley.edu  ...      1868.0        CA   \n",
            "3  http://www.princeton.edu  ...      1746.0        NJ   \n",
            "4   http://www.columbia.edu  ...      1754.0        NY   \n",
            "5           http://ucla.edu  ...      1919.0        CA   \n",
            "6   http://www.williams.edu  ...      1793.0        MA   \n",
            "7       http://www.yale.edu  ...      1701.0        CT   \n",
            "8       http://www.duke.edu  ...      1924.0        NC   \n",
            "9      http://www.upenn.edu  ...      1740.0        PA   \n",
            "\n",
            "              collegeType                             carnegieClassification  \\\n",
            "0  Private not-for-profit  Doctoral Universities: Very High Research Acti...   \n",
            "1  Private not-for-profit  Doctoral Universities: Very High Research Acti...   \n",
            "2                  Public  Doctoral Universities: Very High Research Acti...   \n",
            "3  Private not-for-profit  Doctoral Universities: Very High Research Acti...   \n",
            "4  Private not-for-profit  Doctoral Universities: Very High Research Acti...   \n",
            "5                  Public  Doctoral Universities: Very High Research Acti...   \n",
            "6  Private not-for-profit      Baccalaureate Colleges: Arts & Sciences Focus   \n",
            "7  Private not-for-profit  Doctoral Universities: Very High Research Acti...   \n",
            "8  Private not-for-profit  Doctoral Universities: Very High Research Acti...   \n",
            "9  Private not-for-profit  Doctoral Universities: Very High Research Acti...   \n",
            "\n",
            "  studentFacultyRatio  totalStudentPop undergradPop totalGrantAid  \\\n",
            "0                   3            12195         4582    35299332.0   \n",
            "1                   4            20961         8464    51328461.0   \n",
            "2                  19            45878        33208    64495611.0   \n",
            "3                   4             8532         5516    44871096.0   \n",
            "4                   6            33882         8689    44615007.0   \n",
            "5                  18            46947        33641    61100980.0   \n",
            "6                   6             2307         2251    15204855.0   \n",
            "7                   4            14910         7199    48430359.0   \n",
            "8                   6            17855         7278    41087604.0   \n",
            "9                   6            30688        14202    59744979.0   \n",
            "\n",
            "  percentOfStudentsFinAid  percentOfStudentsGrant  \n",
            "0                    75.0                    60.0  \n",
            "1                    70.0                    55.0  \n",
            "2                    63.0                    53.0  \n",
            "3                    62.0                    61.0  \n",
            "4                    58.0                    54.0  \n",
            "5                    73.0                    67.0  \n",
            "6                    62.0                    52.0  \n",
            "7                    61.0                    53.0  \n",
            "8                    63.0                    47.0  \n",
            "9                    57.0                    47.0  \n",
            "\n",
            "[10 rows x 25 columns]\n"
          ]
        }
      ],
      "source": [
        "print(df.head(10))"
      ]
    },
    {
      "cell_type": "markdown",
      "id": "b0a6e669",
      "metadata": {
        "id": "b0a6e669"
      },
      "source": [
        "## Exploration\n",
        "\n",
        "Now let's learn to do some exploration. Try printing out the median \"medianBaseSalary\"\n"
      ]
    },
    {
      "cell_type": "code",
      "execution_count": null,
      "id": "2cf7ad00",
      "metadata": {
        "id": "2cf7ad00"
      },
      "outputs": [],
      "source": []
    },
    {
      "cell_type": "markdown",
      "id": "a866be32",
      "metadata": {
        "id": "a866be32"
      },
      "source": [
        "Making it a little more complicated--print out the median \"medianBaseSalary\" only for urban colleges."
      ]
    },
    {
      "cell_type": "code",
      "execution_count": null,
      "id": "405f0d9b",
      "metadata": {
        "id": "405f0d9b"
      },
      "outputs": [],
      "source": []
    },
    {
      "cell_type": "markdown",
      "id": "4499304e",
      "metadata": {
        "id": "4499304e"
      },
      "source": [
        "Now, still using one statement, let's print out median \"medianBaseSalary\" for all different possible values of \"campusSetting\". You'll need a statement we haven't used yet."
      ]
    },
    {
      "cell_type": "code",
      "execution_count": null,
      "id": "3548ea91",
      "metadata": {
        "id": "3548ea91"
      },
      "outputs": [],
      "source": []
    },
    {
      "cell_type": "markdown",
      "id": "252d40bc",
      "metadata": {
        "id": "252d40bc"
      },
      "source": [
        "Print out the number of colleges by state. Your results should look something like:\n",
        "\n",
        "NY    63<br>\n",
        "CA    55\n",
        "\n",
        "etc."
      ]
    },
    {
      "cell_type": "code",
      "execution_count": null,
      "id": "15722a8b",
      "metadata": {
        "id": "15722a8b"
      },
      "outputs": [],
      "source": []
    },
    {
      "cell_type": "markdown",
      "id": "69a3b693",
      "metadata": {
        "id": "69a3b693"
      },
      "source": [
        "Display just the line for University of Maryland. (There are a couple of ways of doing this.)"
      ]
    },
    {
      "cell_type": "code",
      "execution_count": null,
      "id": "cd19e2d4",
      "metadata": {
        "id": "cd19e2d4"
      },
      "outputs": [],
      "source": []
    },
    {
      "cell_type": "markdown",
      "id": "06ff483c",
      "metadata": {
        "id": "06ff483c"
      },
      "source": [
        "## Modifications\n",
        "\n",
        "Let's start modifying our dataframe! Remember, dataframe operations return a copy by default, so you'll either need to use the inplace=True, or just assign the dataframe back into itself (as in, df = df.someFunction()).\n",
        "\n",
        "Start by filling in all blank phone numbers with \"no number\"\n",
        "\n"
      ]
    },
    {
      "cell_type": "code",
      "execution_count": null,
      "id": "540dc6df",
      "metadata": {
        "id": "540dc6df"
      },
      "outputs": [],
      "source": []
    },
    {
      "cell_type": "markdown",
      "id": "49617e69",
      "metadata": {
        "id": "49617e69"
      },
      "source": [
        "Take the website column and change it so that no string includes \"http://\" or \"www\""
      ]
    },
    {
      "cell_type": "code",
      "execution_count": null,
      "id": "048dbc60",
      "metadata": {
        "id": "048dbc60"
      },
      "outputs": [],
      "source": []
    },
    {
      "cell_type": "markdown",
      "id": "c6e96e8a",
      "metadata": {
        "id": "c6e96e8a"
      },
      "source": [
        "Create a new column called \"faculty\" that computes the number of faculty at each university"
      ]
    },
    {
      "cell_type": "code",
      "execution_count": null,
      "id": "e41932a0",
      "metadata": {
        "id": "e41932a0"
      },
      "outputs": [],
      "source": []
    },
    {
      "cell_type": "markdown",
      "id": "f8393843",
      "metadata": {
        "id": "f8393843"
      },
      "source": [
        "## Graphs"
      ]
    },
    {
      "cell_type": "markdown",
      "id": "abaaffeb",
      "metadata": {
        "id": "abaaffeb"
      },
      "source": [
        "Let's do some very basic graphing here! Create a histogram for the student population."
      ]
    },
    {
      "cell_type": "code",
      "execution_count": null,
      "id": "bb634d11",
      "metadata": {
        "id": "bb634d11"
      },
      "outputs": [],
      "source": []
    }
  ],
  "metadata": {
    "kernelspec": {
      "display_name": "Python 3 (ipykernel)",
      "language": "python",
      "name": "python3"
    },
    "language_info": {
      "codemirror_mode": {
        "name": "ipython",
        "version": 3
      },
      "file_extension": ".py",
      "mimetype": "text/x-python",
      "name": "python",
      "nbconvert_exporter": "python",
      "pygments_lexer": "ipython3",
      "version": "3.9.13"
    },
    "colab": {
      "provenance": [],
      "include_colab_link": true
    }
  },
  "nbformat": 4,
  "nbformat_minor": 5
}