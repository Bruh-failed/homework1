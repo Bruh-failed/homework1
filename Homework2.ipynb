{
  "cells": [
    {
      "cell_type": "markdown",
      "metadata": {
        "id": "view-in-github",
        "colab_type": "text"
      },
      "source": [
        "<a href=\"https://colab.research.google.com/github/Bruh-failed/homework1/blob/main/Homework2.ipynb\" target=\"_parent\"><img src=\"https://colab.research.google.com/assets/colab-badge.svg\" alt=\"Open In Colab\"/></a>"
      ]
    },
    {
      "cell_type": "markdown",
      "id": "d86eca04",
      "metadata": {
        "id": "d86eca04"
      },
      "source": [
        "# Homework 2: Pandas\n",
        "\n",
        "Today we'll practice data exploration in pandas! Each of these cells should consist of a single line of pandas, answering the question.\n",
        "\n",
        "First, you'll need to download the dataset \"Top American Colleges 2022\" from Kaggle.com and get it into this directory. You'll need to make an account first.\n",
        "\n",
        "Below is a list of useful functions. Part of this homework is practicing reading the documentation, so you'll want to look them up as you go. I'd recommend starting with this: https://pandas.pydata.org/docs/user_guide/10min.html. Once you've read that, in general you can find the API for any of these functions by searching their name plus pandas.\n",
        "\n",
        "List of helpful functions:\n",
        "\n",
        "* read_csv\n",
        "* head\n",
        "* unique\n",
        "* groupby\n",
        "* apply (An important note about this one--pay careful attention to the weird axis argument. When you apply over a series, you often don't need it, but when you apply over a dataframe axis=1 and axis=0 will do very different things.)\n",
        "* value_counts\n",
        "* df.columns ('columns' is a dataframe variable that tracks the columns)\n",
        "* isin\n",
        "* fillna\n",
        "* astype\n",
        "* hist"
      ]
    },
    {
      "cell_type": "markdown",
      "id": "b5c99f57",
      "metadata": {
        "id": "b5c99f57"
      },
      "source": [
        "## The Basics\n",
        "\n",
        "First, read the dataframe in. Store it in a variable called \"df\"."
      ]
    },
    {
      "cell_type": "code",
      "execution_count": 1,
      "id": "1ae215ce",
      "metadata": {
        "id": "1ae215ce"
      },
      "outputs": [],
      "source": [
        "import pandas as pd\n",
        "import matplotlib.pyplot as plt\n",
        "\n",
        "df = pd.read_csv('top_colleges_2022.csv')"
      ]
    },
    {
      "cell_type": "markdown",
      "id": "42764159",
      "metadata": {
        "id": "42764159"
      },
      "source": [
        "Let's get a feel for our dataframe. Print out a list of columns"
      ]
    },
    {
      "cell_type": "code",
      "execution_count": null,
      "id": "454d1bc7",
      "metadata": {
        "id": "454d1bc7"
      },
      "outputs": [],
      "source": []
    },
    {
      "cell_type": "markdown",
      "id": "a41eb31f",
      "metadata": {
        "id": "a41eb31f"
      },
      "source": [
        "Now print out the first ten elements. There's a single function that does it by default."
      ]
    },
    {
      "cell_type": "code",
      "execution_count": null,
      "id": "98b5cc9f",
      "metadata": {
        "colab": {
          "base_uri": "https://localhost:8080/"
        },
        "id": "98b5cc9f",
        "outputId": "4af9b9e2-7434-4654-a7d8-088052647768"
      },
      "outputs": [
        {
          "output_type": "stream",
          "name": "stdout",
          "text": [
            "                                         description  rank  \\\n",
            "0  A leading global research university, MIT attr...     1   \n",
            "1  Stanford University sits just outside of Palo ...     2   \n",
            "2  One of the top public universities in the coun...     2   \n",
            "3  Princeton is a leading private research univer...     4   \n",
            "4  Located in upper Manhattan, Columbia Universit...     5   \n",
            "5  The University of California, Los Angeles is t...     6   \n",
            "6  Located in rural Williamstown, MA, Williams Co...     7   \n",
            "7  Yale University is the second oldest Ivy Leagu...     8   \n",
            "8  Duke offers 53 undergraduate majors at its Dur...     9   \n",
            "9  Founded by Benjamin Franklin, The University o...    10   \n",
            "\n",
            "                        organizationName state  studentPopulation  \\\n",
            "0  Massachusetts Institute of Technology    MA              12195   \n",
            "1                    Stanford University    CA              20961   \n",
            "2     University of California, Berkeley    CA              45878   \n",
            "3                   Princeton University    NJ               8532   \n",
            "4                    Columbia University    NY              33882   \n",
            "5  University of California, Los Angeles    CA              46947   \n",
            "6                       Williams College    MA               2307   \n",
            "7                        Yale University    CT              14910   \n",
            "8                        Duke University    NC              17855   \n",
            "9             University of Pennsylvania    PA              30688   \n",
            "\n",
            "  campusSetting  medianBaseSalary   longitude   latitude  \\\n",
            "0         Urban          173700.0  -71.093539  42.359006   \n",
            "1      Suburban          173500.0 -122.168924  37.431370   \n",
            "2         Urban          154500.0 -122.258393  37.869236   \n",
            "3         Urban          167600.0  -74.659119  40.349855   \n",
            "4         Urban          148800.0  -73.961288  40.806515   \n",
            "5         Urban          137200.0 -118.437855  34.073903   \n",
            "6         Rural          152600.0  -73.208078  42.712389   \n",
            "7         Urban          163700.0  -72.923425  41.314042   \n",
            "8         Urban          155000.0  -78.940277  36.001389   \n",
            "9         Urban          164000.0  -75.162369  39.952270   \n",
            "\n",
            "                    website  ... yearFounded stateCode  \\\n",
            "0        http://web.mit.edu  ...      1861.0        MA   \n",
            "1   http://www.stanford.edu  ...      1891.0        CA   \n",
            "2   http://www.berkeley.edu  ...      1868.0        CA   \n",
            "3  http://www.princeton.edu  ...      1746.0        NJ   \n",
            "4   http://www.columbia.edu  ...      1754.0        NY   \n",
            "5           http://ucla.edu  ...      1919.0        CA   \n",
            "6   http://www.williams.edu  ...      1793.0        MA   \n",
            "7       http://www.yale.edu  ...      1701.0        CT   \n",
            "8       http://www.duke.edu  ...      1924.0        NC   \n",
            "9      http://www.upenn.edu  ...      1740.0        PA   \n",
            "\n",
            "              collegeType                             carnegieClassification  \\\n",
            "0  Private not-for-profit  Doctoral Universities: Very High Research Acti...   \n",
            "1  Private not-for-profit  Doctoral Universities: Very High Research Acti...   \n",
            "2                  Public  Doctoral Universities: Very High Research Acti...   \n",
            "3  Private not-for-profit  Doctoral Universities: Very High Research Acti...   \n",
            "4  Private not-for-profit  Doctoral Universities: Very High Research Acti...   \n",
            "5                  Public  Doctoral Universities: Very High Research Acti...   \n",
            "6  Private not-for-profit      Baccalaureate Colleges: Arts & Sciences Focus   \n",
            "7  Private not-for-profit  Doctoral Universities: Very High Research Acti...   \n",
            "8  Private not-for-profit  Doctoral Universities: Very High Research Acti...   \n",
            "9  Private not-for-profit  Doctoral Universities: Very High Research Acti...   \n",
            "\n",
            "  studentFacultyRatio  totalStudentPop undergradPop totalGrantAid  \\\n",
            "0                   3            12195         4582    35299332.0   \n",
            "1                   4            20961         8464    51328461.0   \n",
            "2                  19            45878        33208    64495611.0   \n",
            "3                   4             8532         5516    44871096.0   \n",
            "4                   6            33882         8689    44615007.0   \n",
            "5                  18            46947        33641    61100980.0   \n",
            "6                   6             2307         2251    15204855.0   \n",
            "7                   4            14910         7199    48430359.0   \n",
            "8                   6            17855         7278    41087604.0   \n",
            "9                   6            30688        14202    59744979.0   \n",
            "\n",
            "  percentOfStudentsFinAid  percentOfStudentsGrant  \n",
            "0                    75.0                    60.0  \n",
            "1                    70.0                    55.0  \n",
            "2                    63.0                    53.0  \n",
            "3                    62.0                    61.0  \n",
            "4                    58.0                    54.0  \n",
            "5                    73.0                    67.0  \n",
            "6                    62.0                    52.0  \n",
            "7                    61.0                    53.0  \n",
            "8                    63.0                    47.0  \n",
            "9                    57.0                    47.0  \n",
            "\n",
            "[10 rows x 25 columns]\n"
          ]
        }
      ],
      "source": [
        "print(df.head(10))"
      ]
    },
    {
      "cell_type": "markdown",
      "id": "b0a6e669",
      "metadata": {
        "id": "b0a6e669"
      },
      "source": [
        "## Exploration\n",
        "\n",
        "Now let's learn to do some exploration. Try printing out the median \"medianBaseSalary\"\n"
      ]
    },
    {
      "cell_type": "code",
      "execution_count": null,
      "id": "2cf7ad00",
      "metadata": {
        "colab": {
          "base_uri": "https://localhost:8080/"
        },
        "id": "2cf7ad00",
        "outputId": "cfb9f7e1-8600-4dc7-a70c-04df733e2105"
      },
      "outputs": [
        {
          "output_type": "stream",
          "name": "stdout",
          "text": [
            "112800.0\n"
          ]
        }
      ],
      "source": [
        "medianBaseSalary = df['medianBaseSalary'].median()\n",
        "print(medianBaseSalary)"
      ]
    },
    {
      "cell_type": "markdown",
      "id": "a866be32",
      "metadata": {
        "id": "a866be32"
      },
      "source": [
        "Making it a little more complicated--print out the median \"medianBaseSalary\" only for urban colleges."
      ]
    },
    {
      "cell_type": "code",
      "execution_count": null,
      "id": "405f0d9b",
      "metadata": {
        "colab": {
          "base_uri": "https://localhost:8080/"
        },
        "id": "405f0d9b",
        "outputId": "67c94902-29c7-448b-b0c1-b538fc11e9e0"
      },
      "outputs": [
        {
          "output_type": "stream",
          "name": "stdout",
          "text": [
            "113100.0\n"
          ]
        }
      ],
      "source": [
        "medianBaseSalaryforurban = df.loc[(df['campusSetting'] == 'Urban'), 'medianBaseSalary'].median()\n",
        "print(medianBaseSalaryforurban)"
      ]
    },
    {
      "cell_type": "markdown",
      "id": "4499304e",
      "metadata": {
        "id": "4499304e"
      },
      "source": [
        "Now, still using one statement, let's print out median \"medianBaseSalary\" for all different possible values of \"campusSetting\". You'll need a statement we haven't used yet."
      ]
    },
    {
      "cell_type": "code",
      "execution_count": null,
      "id": "3548ea91",
      "metadata": {
        "colab": {
          "base_uri": "https://localhost:8080/"
        },
        "id": "3548ea91",
        "outputId": "83c2619a-bc35-498b-9ccd-6bc010580152"
      },
      "outputs": [
        {
          "output_type": "stream",
          "name": "stdout",
          "text": [
            "113100.0\n",
            "113500.0\n",
            "111450.0\n"
          ]
        }
      ],
      "source": [
        "\n",
        "medianBaseSalaryforurban = df.loc[(df['campusSetting'] == 'Urban'), 'medianBaseSalary'].median()\n",
        "medianBaseSalaryforsuburban = df.loc[(df['campusSetting'] == 'Suburban'), 'medianBaseSalary'].median()\n",
        "medianBaseSalaryforrural = df.loc[(df['campusSetting'] == 'Rural'), 'medianBaseSalary'].median()\n",
        "\n",
        "print(medianBaseSalaryforurban)\n",
        "print(medianBaseSalaryforsuburban)\n",
        "print(medianBaseSalaryforrural)"
      ]
    },
    {
      "cell_type": "markdown",
      "id": "252d40bc",
      "metadata": {
        "id": "252d40bc"
      },
      "source": [
        "Print out the number of colleges by state. Your results should look something like:\n",
        "\n",
        "NY    63<br>\n",
        "CA    55\n",
        "\n",
        "etc."
      ]
    },
    {
      "cell_type": "code",
      "execution_count": null,
      "id": "15722a8b",
      "metadata": {
        "colab": {
          "base_uri": "https://localhost:8080/"
        },
        "id": "15722a8b",
        "outputId": "ab6c999d-1b15-431c-e6b1-18642c29464d"
      },
      "outputs": [
        {
          "output_type": "execute_result",
          "data": {
            "text/plain": [
              "state\n",
              "AL     5\n",
              "AR     2\n",
              "AZ     4\n",
              "CA    55\n",
              "CO     7\n",
              "CT     8\n",
              "DC     5\n",
              "DE     1\n",
              "FL    14\n",
              "GA     9\n",
              "HI     2\n",
              "IA     5\n",
              "ID     3\n",
              "IL    16\n",
              "IN    12\n",
              "KS     2\n",
              "KY     4\n",
              "LA     4\n",
              "MA    27\n",
              "MD    12\n",
              "ME     4\n",
              "MI    15\n",
              "MN    12\n",
              "MO     8\n",
              "MS     2\n",
              "MT     2\n",
              "NC    11\n",
              "ND     2\n",
              "NE     3\n",
              "NH     4\n",
              "NJ    16\n",
              "NM     3\n",
              "NV     2\n",
              "NY    63\n",
              "OH    15\n",
              "OK     3\n",
              "OR     9\n",
              "PA    33\n",
              "PR     1\n",
              "RI     5\n",
              "SC     6\n",
              "SD     2\n",
              "TN     9\n",
              "TX    26\n",
              "UT     4\n",
              "VA    14\n",
              "VT     4\n",
              "WA    13\n",
              "WI     8\n",
              "WV     1\n",
              "WY     1\n",
              "Name: state, dtype: int64"
            ]
          },
          "metadata": {},
          "execution_count": 29
        }
      ],
      "source": [
        "df.groupby('state')['state'].count()"
      ]
    },
    {
      "cell_type": "markdown",
      "id": "69a3b693",
      "metadata": {
        "id": "69a3b693"
      },
      "source": [
        "Display just the line for University of Maryland. (There are a couple of ways of doing this.)"
      ]
    },
    {
      "cell_type": "code",
      "execution_count": 16,
      "id": "cd19e2d4",
      "metadata": {
        "id": "cd19e2d4",
        "colab": {
          "base_uri": "https://localhost:8080/"
        },
        "outputId": "8f78dc24-9877-4c55-94ec-ba7d3db2c941"
      },
      "outputs": [
        {
          "output_type": "stream",
          "name": "stdout",
          "text": [
            "description                The University of Maryland, College Park, is a...\n",
            "rank                                                                      40\n",
            "organizationName                        University of Maryland, College Park\n",
            "state                                                                     MD\n",
            "studentPopulation                                                      44404\n",
            "campusSetting                                                       Suburban\n",
            "medianBaseSalary                                                    124500.0\n",
            "longitude                                                         -76.937269\n",
            "latitude                                                           38.980725\n",
            "website                                                   http://www.umd.edu\n",
            "phoneNumber                                                   (301) 405-1000\n",
            "city                                                            College Park\n",
            "country                                                        United States\n",
            "state.1                                                             Maryland\n",
            "region                                                             Northeast\n",
            "yearFounded                                                           1858.0\n",
            "stateCode                                                                 MD\n",
            "collegeType                                                           Public\n",
            "carnegieClassification     Doctoral Universities: Very High Research Acti...\n",
            "studentFacultyRatio                                                       17\n",
            "totalStudentPop                                                        44404\n",
            "undergradPop                                                           32954\n",
            "totalGrantAid                                                     28679244.0\n",
            "percentOfStudentsFinAid                                                 67.0\n",
            "percentOfStudentsGrant                                                  53.0\n",
            "Name: 39, dtype: object\n"
          ]
        }
      ],
      "source": [
        "dc = df[df['organizationName'].str.contains('University of Maryland')].iloc[0]\n",
        "print(dc)\n",
        "\n"
      ]
    },
    {
      "cell_type": "markdown",
      "id": "06ff483c",
      "metadata": {
        "id": "06ff483c"
      },
      "source": [
        "## Modifications\n",
        "\n",
        "Let's start modifying our dataframe! Remember, dataframe operations return a copy by default, so you'll either need to use the inplace=True, or just assign the dataframe back into itself (as in, df = df.someFunction()).\n",
        "\n",
        "Start by filling in all blank phone numbers with \"no number\"\n",
        "\n"
      ]
    },
    {
      "cell_type": "code",
      "execution_count": null,
      "id": "540dc6df",
      "metadata": {
        "id": "540dc6df",
        "colab": {
          "base_uri": "https://localhost:8080/"
        },
        "outputId": "43f9a299-638b-4f4f-cd2d-af8b78f91c60"
      },
      "outputs": [
        {
          "output_type": "stream",
          "name": "stdout",
          "text": [
            "                                          description  rank  \\\n",
            "0   A leading global research university, MIT attr...     1   \n",
            "1   Stanford University sits just outside of Palo ...     2   \n",
            "2   One of the top public universities in the coun...     2   \n",
            "3   Princeton is a leading private research univer...     4   \n",
            "4   Located in upper Manhattan, Columbia Universit...     5   \n",
            "5   The University of California, Los Angeles is t...     6   \n",
            "6   Located in rural Williamstown, MA, Williams Co...     7   \n",
            "7   Yale University is the second oldest Ivy Leagu...     8   \n",
            "8   Duke offers 53 undergraduate majors at its Dur...     9   \n",
            "9   Founded by Benjamin Franklin, The University o...    10   \n",
            "10  An elite private university, Northwestern prov...    11   \n",
            "11  Rice is a private research institution in Hous...    12   \n",
            "12  Vanderbilt University in Nashville, TN, offers...    13   \n",
            "13  The smallest Ivy League school, Dartmouth Coll...    14   \n",
            "14  Founded in 1636 in Cambridge, Massachusetts, H...    15   \n",
            "15  Set on a hill overlooking Ithaca, NY, Cornell ...    16   \n",
            "16  The University of California, San Diego is a l...    17   \n",
            "17  Johns Hopkins University is one of the nation’...    18   \n",
            "18  Brown University is a midsize Ivy League unive...    19   \n",
            "19  The University of Chicago is an elite urban re...    20   \n",
            "\n",
            "                         organizationName state  studentPopulation  \\\n",
            "0   Massachusetts Institute of Technology    MA              12195   \n",
            "1                     Stanford University    CA              20961   \n",
            "2      University of California, Berkeley    CA              45878   \n",
            "3                    Princeton University    NJ               8532   \n",
            "4                     Columbia University    NY              33882   \n",
            "5   University of California, Los Angeles    CA              46947   \n",
            "6                        Williams College    MA               2307   \n",
            "7                         Yale University    CT              14910   \n",
            "8                         Duke University    NC              17855   \n",
            "9              University of Pennsylvania    PA              30688   \n",
            "10                Northwestern University    IL              25870   \n",
            "11                        Rice University    TX               8005   \n",
            "12                  Vanderbilt University    TN              13918   \n",
            "13                      Dartmouth College    NH               7171   \n",
            "14                     Harvard University    MA              41024   \n",
            "15                     Cornell University    NY              24594   \n",
            "16    University of California, San Diego    CA              40547   \n",
            "17               Johns Hopkins University    MD              34250   \n",
            "18                       Brown University    RI              10807   \n",
            "19                  University of Chicago    IL              20413   \n",
            "\n",
            "   campusSetting  medianBaseSalary   longitude   latitude  \\\n",
            "0          Urban          173700.0  -71.093539  42.359006   \n",
            "1       Suburban          173500.0 -122.168924  37.431370   \n",
            "2          Urban          154500.0 -122.258393  37.869236   \n",
            "3          Urban          167600.0  -74.659119  40.349855   \n",
            "4          Urban          148800.0  -73.961288  40.806515   \n",
            "5          Urban          137200.0 -118.437855  34.073903   \n",
            "6          Rural          152600.0  -73.208078  42.712389   \n",
            "7          Urban          163700.0  -72.923425  41.314042   \n",
            "8          Urban          155000.0  -78.940277  36.001389   \n",
            "9          Urban          164000.0  -75.162369  39.952270   \n",
            "10         Urban          137200.0  -87.678740  42.049650   \n",
            "11         Urban          148100.0  -95.369784  29.760450   \n",
            "12         Urban          137300.0  -86.801456  36.150323   \n",
            "13         Rural          161300.0  -72.289499  43.700465   \n",
            "14         Urban          169000.0  -71.112957  42.374699   \n",
            "15         Urban          148200.0  -76.484510  42.453558   \n",
            "16         Urban          143500.0 -117.237726  32.872710   \n",
            "17         Urban          138700.0  -76.609604  39.290555   \n",
            "18         Urban          153100.0  -71.449747  41.858184   \n",
            "19         Urban          136600.0  -87.601242  41.790203   \n",
            "\n",
            "                        website  ... yearFounded stateCode  \\\n",
            "0            http://web.mit.edu  ...      1861.0        MA   \n",
            "1       http://www.stanford.edu  ...      1891.0        CA   \n",
            "2       http://www.berkeley.edu  ...      1868.0        CA   \n",
            "3      http://www.princeton.edu  ...      1746.0        NJ   \n",
            "4       http://www.columbia.edu  ...      1754.0        NY   \n",
            "5               http://ucla.edu  ...      1919.0        CA   \n",
            "6       http://www.williams.edu  ...      1793.0        MA   \n",
            "7           http://www.yale.edu  ...      1701.0        CT   \n",
            "8           http://www.duke.edu  ...      1924.0        NC   \n",
            "9          http://www.upenn.edu  ...      1740.0        PA   \n",
            "10  http://www.northwestern.edu  ...      1851.0        IL   \n",
            "11          http://www.rice.edu  ...      1891.0        TX   \n",
            "12    http://www.vanderbilt.edu  ...      1873.0        TN   \n",
            "13     http://www.dartmouth.edu  ...      1769.0        NH   \n",
            "14       http://www.harvard.edu  ...      1636.0        MA   \n",
            "15       http://www.cornell.edu  ...      1865.0        NY   \n",
            "16          http://www.ucsd.edu  ...      1960.0        CA   \n",
            "17           http://www.jhu.edu  ...      1876.0       NaN   \n",
            "18         http://www.brown.edu  ...      1764.0        RI   \n",
            "19      http://www.uchicago.edu  ...      1890.0        IL   \n",
            "\n",
            "               collegeType                             carnegieClassification  \\\n",
            "0   Private not-for-profit  Doctoral Universities: Very High Research Acti...   \n",
            "1   Private not-for-profit  Doctoral Universities: Very High Research Acti...   \n",
            "2                   Public  Doctoral Universities: Very High Research Acti...   \n",
            "3   Private not-for-profit  Doctoral Universities: Very High Research Acti...   \n",
            "4   Private not-for-profit  Doctoral Universities: Very High Research Acti...   \n",
            "5                   Public  Doctoral Universities: Very High Research Acti...   \n",
            "6   Private not-for-profit      Baccalaureate Colleges: Arts & Sciences Focus   \n",
            "7   Private not-for-profit  Doctoral Universities: Very High Research Acti...   \n",
            "8   Private not-for-profit  Doctoral Universities: Very High Research Acti...   \n",
            "9   Private not-for-profit  Doctoral Universities: Very High Research Acti...   \n",
            "10  Private not-for-profit  Doctoral Universities: Very High Research Acti...   \n",
            "11  Private not-for-profit  Doctoral Universities: Very High Research Acti...   \n",
            "12  Private not-for-profit  Doctoral Universities: Very High Research Acti...   \n",
            "13  Private not-for-profit  Doctoral Universities: Very High Research Acti...   \n",
            "14  Private not-for-profit  Doctoral Universities: Very High Research Acti...   \n",
            "15  Private not-for-profit  Doctoral Universities: Very High Research Acti...   \n",
            "16                  Public  Doctoral Universities: Very High Research Acti...   \n",
            "17  Private not-for-profit  Doctoral Universities: Very High Research Acti...   \n",
            "18  Private not-for-profit  Doctoral Universities: Very High Research Acti...   \n",
            "19  Private not-for-profit  Doctoral Universities: Very High Research Acti...   \n",
            "\n",
            "   studentFacultyRatio  totalStudentPop undergradPop totalGrantAid  \\\n",
            "0                    3            12195         4582    35299332.0   \n",
            "1                    4            20961         8464    51328461.0   \n",
            "2                   19            45878        33208    64495611.0   \n",
            "3                    4             8532         5516    44871096.0   \n",
            "4                    6            33882         8689    44615007.0   \n",
            "5                   18            46947        33641    61100980.0   \n",
            "6                    6             2307         2251    15204855.0   \n",
            "7                    4            14910         7199    48430359.0   \n",
            "8                    6            17855         7278    41087604.0   \n",
            "9                    6            30688        14202    59744979.0   \n",
            "10                   6            25870         9827    61176584.0   \n",
            "11                   6             8005         4421    27486883.0   \n",
            "12                   8            13918         6998    47391010.0   \n",
            "13                   7             7171         4885    27997693.0   \n",
            "14                   5            41024        14431    54635593.0   \n",
            "15                   9            24594        15396    70971547.0   \n",
            "16                  19            40547        32252    60461843.0   \n",
            "17                   6            34250         8394    41160533.0   \n",
            "18                   6            10807         7553    36177528.0   \n",
            "19                   5            20413         8204    40317227.0   \n",
            "\n",
            "   percentOfStudentsFinAid  percentOfStudentsGrant  \n",
            "0                     75.0                    60.0  \n",
            "1                     70.0                    55.0  \n",
            "2                     63.0                    53.0  \n",
            "3                     62.0                    61.0  \n",
            "4                     58.0                    54.0  \n",
            "5                     73.0                    67.0  \n",
            "6                     62.0                    52.0  \n",
            "7                     61.0                    53.0  \n",
            "8                     63.0                    47.0  \n",
            "9                     57.0                    47.0  \n",
            "10                    66.0                    61.0  \n",
            "11                    70.0                    60.0  \n",
            "12                    67.0                    62.0  \n",
            "13                    58.0                    45.0  \n",
            "14                    72.0                    57.0  \n",
            "15                    59.0                    47.0  \n",
            "16                    60.0                    54.0  \n",
            "17                    65.0                    57.0  \n",
            "18                    55.0                    44.0  \n",
            "19                    57.0                    52.0  \n",
            "\n",
            "[20 rows x 25 columns]\n"
          ]
        }
      ],
      "source": [
        "df[\"phoneNumber\"] = df['phoneNumber'].replace('','no number')"
      ]
    },
    {
      "cell_type": "markdown",
      "id": "49617e69",
      "metadata": {
        "id": "49617e69"
      },
      "source": [
        "Take the website column and change it so that no string includes \"http://\" or \"www\""
      ]
    },
    {
      "cell_type": "code",
      "execution_count": null,
      "id": "048dbc60",
      "metadata": {
        "id": "048dbc60",
        "colab": {
          "base_uri": "https://localhost:8080/"
        },
        "outputId": "48a7b749-195d-4ff8-94af-c14c9b80d42b"
      },
      "outputs": [
        {
          "output_type": "stream",
          "name": "stdout",
          "text": [
            "0           web.mit.edu\n",
            "1         .stanford.edu\n",
            "2         .berkeley.edu\n",
            "3        .princeton.edu\n",
            "4         .columbia.edu\n",
            "             ...       \n",
            "493          .sjcny.edu\n",
            "494       .moravian.edu\n",
            "495    https://.ltu.edu\n",
            "496                 NaN\n",
            "497         .mephis.edu\n",
            "Name: website, Length: 498, dtype: object\n"
          ]
        }
      ],
      "source": [
        "df[\"website\"] = df['website'].str.replace('http://','').str.replace('www','')\n",
        "print(df['website'])"
      ]
    },
    {
      "cell_type": "markdown",
      "id": "c6e96e8a",
      "metadata": {
        "id": "c6e96e8a"
      },
      "source": [
        "Create a new column called \"faculty\" that computes the number of faculty at each university"
      ]
    },
    {
      "cell_type": "code",
      "execution_count": null,
      "id": "e41932a0",
      "metadata": {
        "id": "e41932a0",
        "colab": {
          "base_uri": "https://localhost:8080/"
        },
        "outputId": "b5a94ec1-4169-46a9-aab1-86405692d9e0"
      },
      "outputs": [
        {
          "output_type": "stream",
          "name": "stdout",
          "text": [
            "                                         description  rank  \\\n",
            "0  A leading global research university, MIT attr...     1   \n",
            "1  Stanford University sits just outside of Palo ...     2   \n",
            "2  One of the top public universities in the coun...     2   \n",
            "3  Princeton is a leading private research univer...     4   \n",
            "4  Located in upper Manhattan, Columbia Universit...     5   \n",
            "5  The University of California, Los Angeles is t...     6   \n",
            "6  Located in rural Williamstown, MA, Williams Co...     7   \n",
            "7  Yale University is the second oldest Ivy Leagu...     8   \n",
            "8  Duke offers 53 undergraduate majors at its Dur...     9   \n",
            "9  Founded by Benjamin Franklin, The University o...    10   \n",
            "\n",
            "                        organizationName state  studentPopulation  \\\n",
            "0  Massachusetts Institute of Technology    MA              12195   \n",
            "1                    Stanford University    CA              20961   \n",
            "2     University of California, Berkeley    CA              45878   \n",
            "3                   Princeton University    NJ               8532   \n",
            "4                    Columbia University    NY              33882   \n",
            "5  University of California, Los Angeles    CA              46947   \n",
            "6                       Williams College    MA               2307   \n",
            "7                        Yale University    CT              14910   \n",
            "8                        Duke University    NC              17855   \n",
            "9             University of Pennsylvania    PA              30688   \n",
            "\n",
            "  campusSetting  medianBaseSalary   longitude   latitude  \\\n",
            "0         Urban          173700.0  -71.093539  42.359006   \n",
            "1      Suburban          173500.0 -122.168924  37.431370   \n",
            "2         Urban          154500.0 -122.258393  37.869236   \n",
            "3         Urban          167600.0  -74.659119  40.349855   \n",
            "4         Urban          148800.0  -73.961288  40.806515   \n",
            "5         Urban          137200.0 -118.437855  34.073903   \n",
            "6         Rural          152600.0  -73.208078  42.712389   \n",
            "7         Urban          163700.0  -72.923425  41.314042   \n",
            "8         Urban          155000.0  -78.940277  36.001389   \n",
            "9         Urban          164000.0  -75.162369  39.952270   \n",
            "\n",
            "                    website  ... stateCode             collegeType  \\\n",
            "0        http://web.mit.edu  ...        MA  Private not-for-profit   \n",
            "1   http://www.stanford.edu  ...        CA  Private not-for-profit   \n",
            "2   http://www.berkeley.edu  ...        CA                  Public   \n",
            "3  http://www.princeton.edu  ...        NJ  Private not-for-profit   \n",
            "4   http://www.columbia.edu  ...        NY  Private not-for-profit   \n",
            "5           http://ucla.edu  ...        CA                  Public   \n",
            "6   http://www.williams.edu  ...        MA  Private not-for-profit   \n",
            "7       http://www.yale.edu  ...        CT  Private not-for-profit   \n",
            "8       http://www.duke.edu  ...        NC  Private not-for-profit   \n",
            "9      http://www.upenn.edu  ...        PA  Private not-for-profit   \n",
            "\n",
            "                              carnegieClassification studentFacultyRatio  \\\n",
            "0  Doctoral Universities: Very High Research Acti...                   3   \n",
            "1  Doctoral Universities: Very High Research Acti...                   4   \n",
            "2  Doctoral Universities: Very High Research Acti...                  19   \n",
            "3  Doctoral Universities: Very High Research Acti...                   4   \n",
            "4  Doctoral Universities: Very High Research Acti...                   6   \n",
            "5  Doctoral Universities: Very High Research Acti...                  18   \n",
            "6      Baccalaureate Colleges: Arts & Sciences Focus                   6   \n",
            "7  Doctoral Universities: Very High Research Acti...                   4   \n",
            "8  Doctoral Universities: Very High Research Acti...                   6   \n",
            "9  Doctoral Universities: Very High Research Acti...                   6   \n",
            "\n",
            "  totalStudentPop  undergradPop totalGrantAid percentOfStudentsFinAid  \\\n",
            "0           12195          4582    35299332.0                    75.0   \n",
            "1           20961          8464    51328461.0                    70.0   \n",
            "2           45878         33208    64495611.0                    63.0   \n",
            "3            8532          5516    44871096.0                    62.0   \n",
            "4           33882          8689    44615007.0                    58.0   \n",
            "5           46947         33641    61100980.0                    73.0   \n",
            "6            2307          2251    15204855.0                    62.0   \n",
            "7           14910          7199    48430359.0                    61.0   \n",
            "8           17855          7278    41087604.0                    63.0   \n",
            "9           30688         14202    59744979.0                    57.0   \n",
            "\n",
            "  percentOfStudentsGrant  faculty  \n",
            "0                   60.0     4065  \n",
            "1                   55.0     5240  \n",
            "2                   53.0     2415  \n",
            "3                   61.0     2133  \n",
            "4                   54.0     5647  \n",
            "5                   67.0     2608  \n",
            "6                   52.0      384  \n",
            "7                   53.0     3728  \n",
            "8                   47.0     2976  \n",
            "9                   47.0     5115  \n",
            "\n",
            "[10 rows x 26 columns]\n"
          ]
        }
      ],
      "source": [
        "df['faculty'] = (df['totalStudentPop'] / df['studentFacultyRatio']).round().astype(int)"
      ]
    },
    {
      "cell_type": "markdown",
      "id": "f8393843",
      "metadata": {
        "id": "f8393843"
      },
      "source": [
        "## Graphs"
      ]
    },
    {
      "cell_type": "markdown",
      "id": "abaaffeb",
      "metadata": {
        "id": "abaaffeb"
      },
      "source": [
        "Let's do some very basic graphing here! Create a histogram for the student population."
      ]
    },
    {
      "cell_type": "code",
      "execution_count": null,
      "id": "bb634d11",
      "metadata": {
        "colab": {
          "base_uri": "https://localhost:8080/",
          "height": 449
        },
        "id": "bb634d11",
        "outputId": "6f6f04cd-f253-4656-db26-3e28ae01ff65"
      },
      "outputs": [
        {
          "output_type": "display_data",
          "data": {
            "text/plain": [
              "<Figure size 640x480 with 1 Axes>"
            ],
            "image/png": "[encoded data removed]"
          },
          "metadata": {}
        }
      ],
      "source": [
        "plt.hist(df['studentPopulation'],bins=5)\n",
        "plt.xlabel('Population of students')\n",
        "plt.ylabel('Amount of colleges')\n",
        "plt.show()"
      ]
    }
  ],
  "metadata": {
    "kernelspec": {
      "display_name": "Python 3 (ipykernel)",
      "language": "python",
      "name": "python3"
    },
    "language_info": {
      "codemirror_mode": {
        "name": "ipython",
        "version": 3
      },
      "file_extension": ".py",
      "mimetype": "text/x-python",
      "name": "python",
      "nbconvert_exporter": "python",
      "pygments_lexer": "ipython3",
      "version": "3.9.13"
    },
    "colab": {
      "provenance": [],
      "include_colab_link": true
    }
  },
  "nbformat": 4,
  "nbformat_minor": 5
}